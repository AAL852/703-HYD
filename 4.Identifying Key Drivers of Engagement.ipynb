{
 "cells": [
  {
   "cell_type": "code",
   "execution_count": null,
   "id": "initial_id",
   "metadata": {
    "collapsed": true,
    "is_executing": true
   },
   "outputs": [],
   "source": [
    "import pandas as pd\n",
    "from scipy.stats import pearsonr\n",
    "from sklearn.preprocessing import MinMaxScaler\n",
    "from sklearn.linear_model import LinearRegression\n",
    "from sklearn.model_selection import train_test_split\n",
    "from sklearn.metrics import mean_squared_error, r2_score"
   ]
  },
  {
   "cell_type": "code",
   "outputs": [],
   "source": [
    "data = pd.read_csv('sampled_data_preprocessed.csv')"
   ],
   "metadata": {
    "collapsed": false,
    "ExecuteTime": {
     "end_time": "2024-10-10T13:01:39.954019Z",
     "start_time": "2024-10-10T13:01:38.631543Z"
    }
   },
   "id": "b38ccc450641c0c3",
   "execution_count": 9
  },
  {
   "cell_type": "code",
   "outputs": [
    {
     "data": {
      "text/plain": "                  tweet_id language tweet_type    original_tweet_id  \\\n0                       76       en   Original                    0   \n1       175531324168351745       en   Original                    0   \n2       286039083011170304       ja   Original                    0   \n3       286462102284148738       ca   Original                    0   \n4       286834468126347264       ja   Original                    0   \n...                    ...      ...        ...                  ...   \n10005  1608989763708801025       ja      Reply  1608989365975547904   \n10006  1609073470541041665      qme      Reply  1609064727212326917   \n10007  1609160340889010177       en   Original                    0   \n10008  1609237428476297216      zxx   Original                    0   \n10009  1609334796622385152       en      Reply  1605799898909052928   \n\n                                              tweet_text              user_id  \\\n0                         kinda twttring around and such                   13   \n1      \"Hydrogen peroxide added in small amounts to d...            503368661   \n2      ‘Kato Shahi, love you! in TV, bring the topic ...            436851409   \n3      Hydrogen peroxide vapor enhances hospital disi...            119054506   \n4      CNIC News 2011/10/13 3 aircraft explosion is a...             88442750   \n...                                                  ...                  ...   \n10005  @gomaaburaseizin I laughed and laughed how muc...  1605132914915946497   \n10006  @irgxf @adndotcom @AlaskaBeacon https://t.co/j...             58257535   \n10007  Cummins Participates in the 6th Foshan Hydroge...           1059819391   \n10008                            https://t.co/dOggyMSw5F            173511443   \n10009  @Victori47392774 @Wardmaryb @JohnStossel Hydro...  1149482665780731905   \n\n      place_id             tweet_creation hashtags  \\\n0            0  2006-03-22 00:00:51+00:00      NaN   \n1            0  2012-03-02 10:41:43+00:00      NaN   \n2            0  2013-01-01 09:20:06+00:00      NaN   \n3            0  2013-01-02 13:21:02+00:00      NaN   \n4            0  2013-01-03 14:00:40+00:00      NaN   \n...        ...                        ...      ...   \n10005        0  2022-12-31 00:53:47+00:00      NaN   \n10006        0  2022-12-31 06:26:25+00:00      NaN   \n10007        0  2022-12-31 12:11:36+00:00      NaN   \n10008        0  2022-12-31 17:17:55+00:00      NaN   \n10009        0  2022-12-31 23:44:50+00:00      NaN   \n\n                                     mentions  ...  hashtags_count  \\\n0                                         NaN  ...               0   \n1                                         NaN  ...               0   \n2                                         NaN  ...               0   \n3                                         NaN  ...               0   \n4                                         NaN  ...               0   \n...                                       ...  ...             ...   \n10005                        |gomaaburaseizin  ...               0   \n10006           |irgxf|adndotcom|AlaskaBeacon  ...               0   \n10007                                     NaN  ...               0   \n10008                                     NaN  ...               0   \n10009  |Victori47392774|Wardmaryb|JohnStossel  ...               0   \n\n                                       mentions_tokens  mentions_count  \\\n0                                                   []               0   \n1                                                   []               0   \n2                                                   []               0   \n3                                                   []               0   \n4                                                   []               0   \n...                                                ...             ...   \n10005                              ['gomaaburaseizin']               1   \n10006           ['irgxf', 'adndotcom', 'alaskabeacon']               3   \n10007                                               []               0   \n10008                                               []               0   \n10009  ['victori47392774', 'wardmaryb', 'johnstossel']               3   \n\n       user_influence  tweet_day tweet_hour is_weekend  \\\n0             5248566          2          0      False   \n1                  46          4         10      False   \n2                2747          1          9      False   \n3                 955          2         13      False   \n4                 327          3         14      False   \n...               ...        ...        ...        ...   \n10005             536          5          0       True   \n10006              89          5          6       True   \n10007               2          5         12       True   \n10008             535          5         17       True   \n10009              31          5         23       True   \n\n                                      hashtags_embedding  \\\n0      [-0.11883842945098877, 0.04829872027039528, -0...   \n1      [-0.11883842945098877, 0.04829872027039528, -0...   \n2      [-0.11883842945098877, 0.04829872027039528, -0...   \n3      [-0.11883842945098877, 0.04829872027039528, -0...   \n4      [-0.11883842945098877, 0.04829872027039528, -0...   \n...                                                  ...   \n10005  [-0.11883842945098877, 0.04829872027039528, -0...   \n10006  [-0.11883842945098877, 0.04829872027039528, -0...   \n10007  [-0.11883842945098877, 0.04829872027039528, -0...   \n10008  [-0.11883842945098877, 0.04829872027039528, -0...   \n10009  [-0.11883842945098877, 0.04829872027039528, -0...   \n\n                                      mentions_embedding  \\\n0      [-0.11883842945098877, 0.04829872027039528, -0...   \n1      [-0.11883842945098877, 0.04829872027039528, -0...   \n2      [-0.11883842945098877, 0.04829872027039528, -0...   \n3      [-0.11883842945098877, 0.04829872027039528, -0...   \n4      [-0.11883842945098877, 0.04829872027039528, -0...   \n...                                                  ...   \n10005  [0.006109271198511124, 0.162232905626297, -0.0...   \n10006  [0.010872884653508663, -0.0415927991271019, -0...   \n10007  [-0.11883842945098877, 0.04829872027039528, -0...   \n10008  [-0.11883842945098877, 0.04829872027039528, -0...   \n10009  [-0.10073011368513107, 0.018242178484797478, -...   \n\n                                    tweet_text_embedding  \n0      [-0.01654781773686409, 0.0477893240749836, 0.0...  \n1      [-0.025313112884759903, 0.051009830087423325, ...  \n2      [-0.07220662385225296, -0.019841067492961884, ...  \n3      [-0.003000939264893532, -0.010538204573094845,...  \n4      [-0.01976289041340351, 0.07890097796916962, 0....  \n...                                                  ...  \n10005  [-0.01719362847507, 0.030254265293478966, 0.03...  \n10006  [-0.05069870129227638, 0.01034287828952074, 0....  \n10007  [-0.04631892591714859, 0.008540322072803974, -...  \n10008  [-0.04486410692334175, -0.006326509173959494, ...  \n10009  [-0.09967131167650223, 0.045538194477558136, -...  \n\n[10010 rows x 47 columns]",
      "text/html": "<div>\n<style scoped>\n    .dataframe tbody tr th:only-of-type {\n        vertical-align: middle;\n    }\n\n    .dataframe tbody tr th {\n        vertical-align: top;\n    }\n\n    .dataframe thead th {\n        text-align: right;\n    }\n</style>\n<table border=\"1\" class=\"dataframe\">\n  <thead>\n    <tr style=\"text-align: right;\">\n      <th></th>\n      <th>tweet_id</th>\n      <th>language</th>\n      <th>tweet_type</th>\n      <th>original_tweet_id</th>\n      <th>tweet_text</th>\n      <th>user_id</th>\n      <th>place_id</th>\n      <th>tweet_creation</th>\n      <th>hashtags</th>\n      <th>mentions</th>\n      <th>...</th>\n      <th>hashtags_count</th>\n      <th>mentions_tokens</th>\n      <th>mentions_count</th>\n      <th>user_influence</th>\n      <th>tweet_day</th>\n      <th>tweet_hour</th>\n      <th>is_weekend</th>\n      <th>hashtags_embedding</th>\n      <th>mentions_embedding</th>\n      <th>tweet_text_embedding</th>\n    </tr>\n  </thead>\n  <tbody>\n    <tr>\n      <th>0</th>\n      <td>76</td>\n      <td>en</td>\n      <td>Original</td>\n      <td>0</td>\n      <td>kinda twttring around and such</td>\n      <td>13</td>\n      <td>0</td>\n      <td>2006-03-22 00:00:51+00:00</td>\n      <td>NaN</td>\n      <td>NaN</td>\n      <td>...</td>\n      <td>0</td>\n      <td>[]</td>\n      <td>0</td>\n      <td>5248566</td>\n      <td>2</td>\n      <td>0</td>\n      <td>False</td>\n      <td>[-0.11883842945098877, 0.04829872027039528, -0...</td>\n      <td>[-0.11883842945098877, 0.04829872027039528, -0...</td>\n      <td>[-0.01654781773686409, 0.0477893240749836, 0.0...</td>\n    </tr>\n    <tr>\n      <th>1</th>\n      <td>175531324168351745</td>\n      <td>en</td>\n      <td>Original</td>\n      <td>0</td>\n      <td>\"Hydrogen peroxide added in small amounts to d...</td>\n      <td>503368661</td>\n      <td>0</td>\n      <td>2012-03-02 10:41:43+00:00</td>\n      <td>NaN</td>\n      <td>NaN</td>\n      <td>...</td>\n      <td>0</td>\n      <td>[]</td>\n      <td>0</td>\n      <td>46</td>\n      <td>4</td>\n      <td>10</td>\n      <td>False</td>\n      <td>[-0.11883842945098877, 0.04829872027039528, -0...</td>\n      <td>[-0.11883842945098877, 0.04829872027039528, -0...</td>\n      <td>[-0.025313112884759903, 0.051009830087423325, ...</td>\n    </tr>\n    <tr>\n      <th>2</th>\n      <td>286039083011170304</td>\n      <td>ja</td>\n      <td>Original</td>\n      <td>0</td>\n      <td>‘Kato Shahi, love you! in TV, bring the topic ...</td>\n      <td>436851409</td>\n      <td>0</td>\n      <td>2013-01-01 09:20:06+00:00</td>\n      <td>NaN</td>\n      <td>NaN</td>\n      <td>...</td>\n      <td>0</td>\n      <td>[]</td>\n      <td>0</td>\n      <td>2747</td>\n      <td>1</td>\n      <td>9</td>\n      <td>False</td>\n      <td>[-0.11883842945098877, 0.04829872027039528, -0...</td>\n      <td>[-0.11883842945098877, 0.04829872027039528, -0...</td>\n      <td>[-0.07220662385225296, -0.019841067492961884, ...</td>\n    </tr>\n    <tr>\n      <th>3</th>\n      <td>286462102284148738</td>\n      <td>ca</td>\n      <td>Original</td>\n      <td>0</td>\n      <td>Hydrogen peroxide vapor enhances hospital disi...</td>\n      <td>119054506</td>\n      <td>0</td>\n      <td>2013-01-02 13:21:02+00:00</td>\n      <td>NaN</td>\n      <td>NaN</td>\n      <td>...</td>\n      <td>0</td>\n      <td>[]</td>\n      <td>0</td>\n      <td>955</td>\n      <td>2</td>\n      <td>13</td>\n      <td>False</td>\n      <td>[-0.11883842945098877, 0.04829872027039528, -0...</td>\n      <td>[-0.11883842945098877, 0.04829872027039528, -0...</td>\n      <td>[-0.003000939264893532, -0.010538204573094845,...</td>\n    </tr>\n    <tr>\n      <th>4</th>\n      <td>286834468126347264</td>\n      <td>ja</td>\n      <td>Original</td>\n      <td>0</td>\n      <td>CNIC News 2011/10/13 3 aircraft explosion is a...</td>\n      <td>88442750</td>\n      <td>0</td>\n      <td>2013-01-03 14:00:40+00:00</td>\n      <td>NaN</td>\n      <td>NaN</td>\n      <td>...</td>\n      <td>0</td>\n      <td>[]</td>\n      <td>0</td>\n      <td>327</td>\n      <td>3</td>\n      <td>14</td>\n      <td>False</td>\n      <td>[-0.11883842945098877, 0.04829872027039528, -0...</td>\n      <td>[-0.11883842945098877, 0.04829872027039528, -0...</td>\n      <td>[-0.01976289041340351, 0.07890097796916962, 0....</td>\n    </tr>\n    <tr>\n      <th>...</th>\n      <td>...</td>\n      <td>...</td>\n      <td>...</td>\n      <td>...</td>\n      <td>...</td>\n      <td>...</td>\n      <td>...</td>\n      <td>...</td>\n      <td>...</td>\n      <td>...</td>\n      <td>...</td>\n      <td>...</td>\n      <td>...</td>\n      <td>...</td>\n      <td>...</td>\n      <td>...</td>\n      <td>...</td>\n      <td>...</td>\n      <td>...</td>\n      <td>...</td>\n      <td>...</td>\n    </tr>\n    <tr>\n      <th>10005</th>\n      <td>1608989763708801025</td>\n      <td>ja</td>\n      <td>Reply</td>\n      <td>1608989365975547904</td>\n      <td>@gomaaburaseizin I laughed and laughed how muc...</td>\n      <td>1605132914915946497</td>\n      <td>0</td>\n      <td>2022-12-31 00:53:47+00:00</td>\n      <td>NaN</td>\n      <td>|gomaaburaseizin</td>\n      <td>...</td>\n      <td>0</td>\n      <td>['gomaaburaseizin']</td>\n      <td>1</td>\n      <td>536</td>\n      <td>5</td>\n      <td>0</td>\n      <td>True</td>\n      <td>[-0.11883842945098877, 0.04829872027039528, -0...</td>\n      <td>[0.006109271198511124, 0.162232905626297, -0.0...</td>\n      <td>[-0.01719362847507, 0.030254265293478966, 0.03...</td>\n    </tr>\n    <tr>\n      <th>10006</th>\n      <td>1609073470541041665</td>\n      <td>qme</td>\n      <td>Reply</td>\n      <td>1609064727212326917</td>\n      <td>@irgxf @adndotcom @AlaskaBeacon https://t.co/j...</td>\n      <td>58257535</td>\n      <td>0</td>\n      <td>2022-12-31 06:26:25+00:00</td>\n      <td>NaN</td>\n      <td>|irgxf|adndotcom|AlaskaBeacon</td>\n      <td>...</td>\n      <td>0</td>\n      <td>['irgxf', 'adndotcom', 'alaskabeacon']</td>\n      <td>3</td>\n      <td>89</td>\n      <td>5</td>\n      <td>6</td>\n      <td>True</td>\n      <td>[-0.11883842945098877, 0.04829872027039528, -0...</td>\n      <td>[0.010872884653508663, -0.0415927991271019, -0...</td>\n      <td>[-0.05069870129227638, 0.01034287828952074, 0....</td>\n    </tr>\n    <tr>\n      <th>10007</th>\n      <td>1609160340889010177</td>\n      <td>en</td>\n      <td>Original</td>\n      <td>0</td>\n      <td>Cummins Participates in the 6th Foshan Hydroge...</td>\n      <td>1059819391</td>\n      <td>0</td>\n      <td>2022-12-31 12:11:36+00:00</td>\n      <td>NaN</td>\n      <td>NaN</td>\n      <td>...</td>\n      <td>0</td>\n      <td>[]</td>\n      <td>0</td>\n      <td>2</td>\n      <td>5</td>\n      <td>12</td>\n      <td>True</td>\n      <td>[-0.11883842945098877, 0.04829872027039528, -0...</td>\n      <td>[-0.11883842945098877, 0.04829872027039528, -0...</td>\n      <td>[-0.04631892591714859, 0.008540322072803974, -...</td>\n    </tr>\n    <tr>\n      <th>10008</th>\n      <td>1609237428476297216</td>\n      <td>zxx</td>\n      <td>Original</td>\n      <td>0</td>\n      <td>https://t.co/dOggyMSw5F</td>\n      <td>173511443</td>\n      <td>0</td>\n      <td>2022-12-31 17:17:55+00:00</td>\n      <td>NaN</td>\n      <td>NaN</td>\n      <td>...</td>\n      <td>0</td>\n      <td>[]</td>\n      <td>0</td>\n      <td>535</td>\n      <td>5</td>\n      <td>17</td>\n      <td>True</td>\n      <td>[-0.11883842945098877, 0.04829872027039528, -0...</td>\n      <td>[-0.11883842945098877, 0.04829872027039528, -0...</td>\n      <td>[-0.04486410692334175, -0.006326509173959494, ...</td>\n    </tr>\n    <tr>\n      <th>10009</th>\n      <td>1609334796622385152</td>\n      <td>en</td>\n      <td>Reply</td>\n      <td>1605799898909052928</td>\n      <td>@Victori47392774 @Wardmaryb @JohnStossel Hydro...</td>\n      <td>1149482665780731905</td>\n      <td>0</td>\n      <td>2022-12-31 23:44:50+00:00</td>\n      <td>NaN</td>\n      <td>|Victori47392774|Wardmaryb|JohnStossel</td>\n      <td>...</td>\n      <td>0</td>\n      <td>['victori47392774', 'wardmaryb', 'johnstossel']</td>\n      <td>3</td>\n      <td>31</td>\n      <td>5</td>\n      <td>23</td>\n      <td>True</td>\n      <td>[-0.11883842945098877, 0.04829872027039528, -0...</td>\n      <td>[-0.10073011368513107, 0.018242178484797478, -...</td>\n      <td>[-0.09967131167650223, 0.045538194477558136, -...</td>\n    </tr>\n  </tbody>\n</table>\n<p>10010 rows × 47 columns</p>\n</div>"
     },
     "execution_count": 10,
     "metadata": {},
     "output_type": "execute_result"
    }
   ],
   "source": [
    "data"
   ],
   "metadata": {
    "collapsed": false,
    "ExecuteTime": {
     "end_time": "2024-10-10T13:01:39.967050Z",
     "start_time": "2024-10-10T13:01:39.954879Z"
    }
   },
   "id": "86ef400af9d55b68",
   "execution_count": 10
  },
  {
   "cell_type": "code",
   "outputs": [],
   "source": [
    "# Select characteristic variables\n",
    "features = [\n",
    "    'sentiment', 'hashtags_count', 'mentions_count', 'user_influence', 'tweet_day', 'tweet_hour', 'is_weekend'\n",
    "]\n",
    "\n",
    "# Target variables (number of likes, number of retweets, number of comments)\n",
    "target = ['like_count', 'retweet_count', 'reply_count']\n",
    "\n",
    "# Extract features and goals\n",
    "X = data[features]\n",
    "y = data[target]\n",
    "\n",
    "# Carry out corresponding data processing\n",
    "X = X.fillna(0)"
   ],
   "metadata": {
    "collapsed": false,
    "ExecuteTime": {
     "end_time": "2024-10-10T13:17:20.526196Z",
     "start_time": "2024-10-10T13:17:20.522455Z"
    }
   },
   "id": "2fca4096c051f679",
   "execution_count": 34
  },
  {
   "cell_type": "code",
   "outputs": [],
   "source": [
    "# Correlation analysis\n",
    "correlation_results = {}\n",
    "for col in features:\n",
    "    for target_col in target:\n",
    "        corr, _ = pearsonr(X[col], data[target_col])\n",
    "        correlation_results[f\"{col} vs {target_col}\"] = corr\n",
    "\n",
    "# Turn the relevance results into DataFrame and sort them\n",
    "correlation_df = pd.DataFrame(correlation_results.items(), columns=['Feature vs Target', 'Correlation'])\n",
    "correlation_df = correlation_df.sort_values(by='Correlation', ascending=False)"
   ],
   "metadata": {
    "collapsed": false,
    "ExecuteTime": {
     "end_time": "2024-10-10T13:17:21.503646Z",
     "start_time": "2024-10-10T13:17:21.488873Z"
    }
   },
   "id": "9df23dacdaa2a267",
   "execution_count": 35
  },
  {
   "cell_type": "code",
   "outputs": [
    {
     "data": {
      "text/plain": "                  Feature vs Target  Correlation\n9      user_influence vs like_count     0.270100\n11    user_influence vs reply_count     0.235280\n10  user_influence vs retweet_count     0.225489\n18         is_weekend vs like_count     0.018557\n19      is_weekend vs retweet_count     0.017426\n12          tweet_day vs like_count     0.017351\n20        is_weekend vs reply_count     0.016788\n14         tweet_day vs reply_count     0.016687\n13       tweet_day vs retweet_count     0.016420\n2          sentiment vs reply_count     0.013099\n0           sentiment vs like_count     0.010845\n1        sentiment vs retweet_count     0.009714\n17        tweet_hour vs reply_count     0.007964\n15         tweet_hour vs like_count     0.007922\n16      tweet_hour vs retweet_count     0.007918\n4   hashtags_count vs retweet_count     0.002398\n3      hashtags_count vs like_count     0.002302\n5     hashtags_count vs reply_count     0.001948\n6      mentions_count vs like_count    -0.003956\n8     mentions_count vs reply_count    -0.004030\n7   mentions_count vs retweet_count    -0.004168",
      "text/html": "<div>\n<style scoped>\n    .dataframe tbody tr th:only-of-type {\n        vertical-align: middle;\n    }\n\n    .dataframe tbody tr th {\n        vertical-align: top;\n    }\n\n    .dataframe thead th {\n        text-align: right;\n    }\n</style>\n<table border=\"1\" class=\"dataframe\">\n  <thead>\n    <tr style=\"text-align: right;\">\n      <th></th>\n      <th>Feature vs Target</th>\n      <th>Correlation</th>\n    </tr>\n  </thead>\n  <tbody>\n    <tr>\n      <th>9</th>\n      <td>user_influence vs like_count</td>\n      <td>0.270100</td>\n    </tr>\n    <tr>\n      <th>11</th>\n      <td>user_influence vs reply_count</td>\n      <td>0.235280</td>\n    </tr>\n    <tr>\n      <th>10</th>\n      <td>user_influence vs retweet_count</td>\n      <td>0.225489</td>\n    </tr>\n    <tr>\n      <th>18</th>\n      <td>is_weekend vs like_count</td>\n      <td>0.018557</td>\n    </tr>\n    <tr>\n      <th>19</th>\n      <td>is_weekend vs retweet_count</td>\n      <td>0.017426</td>\n    </tr>\n    <tr>\n      <th>12</th>\n      <td>tweet_day vs like_count</td>\n      <td>0.017351</td>\n    </tr>\n    <tr>\n      <th>20</th>\n      <td>is_weekend vs reply_count</td>\n      <td>0.016788</td>\n    </tr>\n    <tr>\n      <th>14</th>\n      <td>tweet_day vs reply_count</td>\n      <td>0.016687</td>\n    </tr>\n    <tr>\n      <th>13</th>\n      <td>tweet_day vs retweet_count</td>\n      <td>0.016420</td>\n    </tr>\n    <tr>\n      <th>2</th>\n      <td>sentiment vs reply_count</td>\n      <td>0.013099</td>\n    </tr>\n    <tr>\n      <th>0</th>\n      <td>sentiment vs like_count</td>\n      <td>0.010845</td>\n    </tr>\n    <tr>\n      <th>1</th>\n      <td>sentiment vs retweet_count</td>\n      <td>0.009714</td>\n    </tr>\n    <tr>\n      <th>17</th>\n      <td>tweet_hour vs reply_count</td>\n      <td>0.007964</td>\n    </tr>\n    <tr>\n      <th>15</th>\n      <td>tweet_hour vs like_count</td>\n      <td>0.007922</td>\n    </tr>\n    <tr>\n      <th>16</th>\n      <td>tweet_hour vs retweet_count</td>\n      <td>0.007918</td>\n    </tr>\n    <tr>\n      <th>4</th>\n      <td>hashtags_count vs retweet_count</td>\n      <td>0.002398</td>\n    </tr>\n    <tr>\n      <th>3</th>\n      <td>hashtags_count vs like_count</td>\n      <td>0.002302</td>\n    </tr>\n    <tr>\n      <th>5</th>\n      <td>hashtags_count vs reply_count</td>\n      <td>0.001948</td>\n    </tr>\n    <tr>\n      <th>6</th>\n      <td>mentions_count vs like_count</td>\n      <td>-0.003956</td>\n    </tr>\n    <tr>\n      <th>8</th>\n      <td>mentions_count vs reply_count</td>\n      <td>-0.004030</td>\n    </tr>\n    <tr>\n      <th>7</th>\n      <td>mentions_count vs retweet_count</td>\n      <td>-0.004168</td>\n    </tr>\n  </tbody>\n</table>\n</div>"
     },
     "execution_count": 36,
     "metadata": {},
     "output_type": "execute_result"
    }
   ],
   "source": [
    "correlation_df"
   ],
   "metadata": {
    "collapsed": false,
    "ExecuteTime": {
     "end_time": "2024-10-10T13:17:23.095701Z",
     "start_time": "2024-10-10T13:17:23.092172Z"
    }
   },
   "id": "f37d4b4c59a11328",
   "execution_count": 36
  },
  {
   "cell_type": "code",
   "outputs": [
    {
     "name": "stdout",
     "output_type": "stream",
     "text": [
      "                  Feature vs Target  Correlation\n",
      "9      user_influence vs like_count     0.270100\n",
      "11    user_influence vs reply_count     0.235280\n",
      "10  user_influence vs retweet_count     0.225489\n",
      "18         is_weekend vs like_count     0.018557\n",
      "19      is_weekend vs retweet_count     0.017426\n",
      "12          tweet_day vs like_count     0.017351\n",
      "20        is_weekend vs reply_count     0.016788\n",
      "14         tweet_day vs reply_count     0.016687\n",
      "13       tweet_day vs retweet_count     0.016420\n",
      "2          sentiment vs reply_count     0.013099\n",
      "0           sentiment vs like_count     0.010845\n",
      "1        sentiment vs retweet_count     0.009714\n",
      "17        tweet_hour vs reply_count     0.007964\n",
      "15         tweet_hour vs like_count     0.007922\n",
      "16      tweet_hour vs retweet_count     0.007918\n",
      "4   hashtags_count vs retweet_count     0.002398\n",
      "3      hashtags_count vs like_count     0.002302\n",
      "5     hashtags_count vs reply_count     0.001948\n",
      "6      mentions_count vs like_count    -0.003956\n",
      "8     mentions_count vs reply_count    -0.004030\n",
      "7   mentions_count vs retweet_count    -0.004168\n"
     ]
    }
   ],
   "source": [
    "print(correlation_df)"
   ],
   "metadata": {
    "collapsed": false,
    "ExecuteTime": {
     "end_time": "2024-10-10T13:18:31.763180Z",
     "start_time": "2024-10-10T13:18:31.759099Z"
    }
   },
   "id": "397af858d6442fc3",
   "execution_count": 37
  },
  {
   "cell_type": "code",
   "outputs": [
    {
     "name": "stdout",
     "output_type": "stream",
     "text": [
      "\n",
      "Analyzing like_count:\n",
      "\n",
      "Mean Squared Error (MSE): 3209536609.915892\n",
      "R-squared (R2): 0.029613205459983916\n",
      "Feature Coefficients:\n",
      "          Feature    Coefficient\n",
      "3  user_influence  111948.729412\n",
      "4       tweet_day      57.869640\n",
      "5      tweet_hour      -4.011349\n",
      "0       sentiment     -12.215329\n",
      "6      is_weekend     -88.134453\n",
      "1  hashtags_count    -180.852874\n",
      "2  mentions_count    -276.850610\n",
      "\n",
      "Analyzing retweet_count:\n",
      "\n",
      "Mean Squared Error (MSE): 261573878.9196706\n",
      "R-squared (R2): 0.006396734350141875\n",
      "Feature Coefficients:\n",
      "          Feature  Coefficient\n",
      "3  user_influence  7074.069282\n",
      "5      tweet_hour    21.428001\n",
      "4       tweet_day    20.055681\n",
      "0       sentiment   -12.868481\n",
      "6      is_weekend   -38.704625\n",
      "1  hashtags_count   -77.686352\n",
      "2  mentions_count  -140.478090\n",
      "\n",
      "Analyzing reply_count:\n",
      "\n",
      "Mean Squared Error (MSE): 50287788.14901828\n",
      "R-squared (R2): 0.013498359025094997\n",
      "Feature Coefficients:\n",
      "          Feature  Coefficient\n",
      "3  user_influence  6305.429303\n",
      "4       tweet_day    32.850604\n",
      "0       sentiment    30.420284\n",
      "5      tweet_hour     7.051493\n",
      "6      is_weekend   -36.984145\n",
      "2  mentions_count   -57.578621\n",
      "1  hashtags_count   -71.216185\n"
     ]
    }
   ],
   "source": [
    "# Select features: Select the characteristics with higher correlation according to the results of correlation analysis.\n",
    "selected_features = [\n",
    "    'sentiment', 'hashtags_count', 'mentions_count', 'user_influence', \n",
    "    'tweet_day', 'tweet_hour', 'is_weekend'\n",
    "]\n",
    "\n",
    "# Target variables\n",
    "targets = ['like_count', 'retweet_count', 'reply_count']\n",
    "\n",
    "# Extract features\n",
    "X = data[selected_features]\n",
    "\n",
    "# The characteristics are normalized\n",
    "scaler_X = MinMaxScaler()\n",
    "X.loc[:, selected_features] = scaler_X.fit_transform(X[selected_features])\n",
    "\n",
    "# Model and evaluate each target variable\n",
    "for target in targets:\n",
    "    print(f\"\\nAnalyzing {target}:\\n\")\n",
    "    \n",
    "    # Extract the current target variable\n",
    "    y = data[target]\n",
    "\n",
    "    # Data set division (80% training set, 20% test set)\n",
    "    X_train, X_test, y_train, y_test = train_test_split(X, y, test_size=0.2, random_state=42)\n",
    "\n",
    "    # Create and train linear regression models\n",
    "    lr_model = LinearRegression()\n",
    "    lr_model.fit(X_train, y_train)\n",
    "\n",
    "    # Predict\n",
    "    y_pred = lr_model.predict(X_test)\n",
    "\n",
    "    # Evaluate the performance of the model\n",
    "    mse = mean_squared_error(y_test, y_pred)\n",
    "    r2 = r2_score(y_test, y_pred)\n",
    "\n",
    "    print(f\"Mean Squared Error (MSE): {mse}\")\n",
    "    print(f\"R-squared (R2): {r2}\")\n",
    "\n",
    "    # Check the model coefficient to quantify the impact of each feature on the target variable.\n",
    "    coefficients = pd.DataFrame({\n",
    "        'Feature': selected_features,\n",
    "        'Coefficient': lr_model.coef_\n",
    "    }).sort_values(by='Coefficient', ascending=False)\n",
    "\n",
    "    print(\"Feature Coefficients:\")\n",
    "    print(coefficients)\n"
   ],
   "metadata": {
    "collapsed": false,
    "ExecuteTime": {
     "end_time": "2024-10-10T13:41:29.379252Z",
     "start_time": "2024-10-10T13:41:29.284610Z"
    }
   },
   "id": "3c9972a1f22cb7bb",
   "execution_count": 58
  },
  {
   "cell_type": "code",
   "outputs": [],
   "source": [],
   "metadata": {
    "collapsed": false
   },
   "id": "467281dfb5a850f4"
  }
 ],
 "metadata": {
  "kernelspec": {
   "display_name": "Python 3",
   "language": "python",
   "name": "python3"
  },
  "language_info": {
   "codemirror_mode": {
    "name": "ipython",
    "version": 2
   },
   "file_extension": ".py",
   "mimetype": "text/x-python",
   "name": "python",
   "nbconvert_exporter": "python",
   "pygments_lexer": "ipython2",
   "version": "2.7.6"
  }
 },
 "nbformat": 4,
 "nbformat_minor": 5
}
